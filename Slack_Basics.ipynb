{
 "cells": [
  {
   "cell_type": "code",
   "execution_count": 5,
   "metadata": {},
   "outputs": [],
   "source": [
    "#!/usr/bin/python\n",
    "from slackclient import SlackClient #slack client\n",
    "import os #to check if file exists for auth token\n",
    "import platform #to get system details\n",
    "from datetime import datetime #to print timestamp in the messages\n",
    "import subprocess #\n",
    "import urllib3 #check internet access\n",
    "import time #to sleep for particular time at first bootup until"
   ]
  },
  {
   "cell_type": "code",
   "execution_count": 9,
   "metadata": {},
   "outputs": [],
   "source": [
    "#create class for RasPi Utility Functions\n",
    "class RasPi():\n",
    "    \n",
    "    def __init__(self):\n",
    "        self.token = \"\"\n",
    "        self.connection_ssid = False\n",
    "        self.temperature = \"0 C\"\n",
    "    \n",
    "    #read token form slack_token.ini and initialize slack client\n",
    "    #create token for your app from https://api.slack.com/custom-integrations/legacy-tokens\n",
    "\n",
    "    def get_auth_token(self,tokenFilePath):\n",
    "        if not os.path.isfile(tokenFilePath):\n",
    "            print(\"File path {} does not exist. Exiting...\".format(filepath))\n",
    "            print(\"Create a File Named slack_token.ini and paste the Token\")\n",
    "            sys.exit()\n",
    "\n",
    "        fp = open(tokenFilePath, 'r')  \n",
    "        token = fp.read()\n",
    "        fp.close()\n",
    "        return token.strip()\n",
    "    \n",
    "    #send a slack message to a channel\n",
    "    #api documentation at https://api.slack.com/methods/chat.postMessage#authorship\n",
    "    def send_slackMessage(self,channel,text,username=\"Raspi_Bot\"):\n",
    "        sc.api_call(\"chat.postMessage\",channel=channel,text=text,username=\"Raspi_Bot\")\n",
    "\n",
    "    #to get Temperature of RasPi\n",
    "    def get_piTemperature(self):\n",
    "        pi_temperature = subprocess.check_output('/opt/vc/bin/vcgencmd measure_temp') \n",
    "        return pi_temperature\n",
    "    \n",
    "    #get internet connectivity status\n",
    "    def get_connectivityStatus(self):\n",
    "        try:\n",
    "            http = urllib3.PoolManager()\n",
    "            req = http.request('GET','http://www.google.com') #hit google\n",
    "            return req.status\n",
    "        except:\n",
    "            return False\n",
    "        \n",
    "    #get internet conection details\n",
    "    def get_connectionDetails(self):\n",
    "        try:\n",
    "            connection_ssid = subprocess.check_output('iwgetid -r')\n",
    "            return connection_ssid\n",
    "        except:\n",
    "            return False\n"
   ]
  },
  {
   "cell_type": "code",
   "execution_count": 10,
   "metadata": {},
   "outputs": [],
   "source": [
    "#initialize raspi functions class\n",
    "raspi = RasPi()\n",
    "\n",
    "#wait until internet connection is established\n",
    "while raspi.get_connectivityStatus() == False:\n",
    "    time.sleep(10)\n",
    "\n",
    "slack_token = raspi.get_auth_token(\"./slack_token.ini\")\n",
    "sc = SlackClient(slack_token)\n",
    "\n",
    "#test message\n",
    "raspi.send_slackMessage(channel = \"#general\", text = \"Hello  \\nSent from : \"+platform.node() + \"\\nSent at : \" + str(datetime.now()) )"
   ]
  }
 ],
 "metadata": {
  "kernelspec": {
   "display_name": "Python 3",
   "language": "python",
   "name": "python3"
  },
  "language_info": {
   "codemirror_mode": {
    "name": "ipython",
    "version": 3
   },
   "file_extension": ".py",
   "mimetype": "text/x-python",
   "name": "python",
   "nbconvert_exporter": "python",
   "pygments_lexer": "ipython3",
   "version": "3.6.1"
  }
 },
 "nbformat": 4,
 "nbformat_minor": 2
}
